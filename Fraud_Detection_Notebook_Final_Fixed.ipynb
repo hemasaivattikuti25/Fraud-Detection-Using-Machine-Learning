{
 "cells": [
  {
   "cell_type": "markdown",
   "id": "2b5b1df5",
   "metadata": {},
   "source": [
    "# Fraud Detection in Financial Transactions\n",
    "This notebook implements fraud detection using classification models."
   ]
  },
  {
   "cell_type": "code",
   "execution_count": 1,
   "id": "2dea7c60",
   "metadata": {},
   "outputs": [],
   "source": [
    "import numpy as np\n",
    "import pandas as pd\n",
    "import matplotlib.pyplot as plt\n",
    "import seaborn as sns\n",
    "from sklearn.model_selection import train_test_split\n",
    "from sklearn.preprocessing import StandardScaler\n",
    "from xgboost import XGBClassifier\n",
    "from sklearn.ensemble import RandomForestClassifier\n",
    "from sklearn.metrics import classification_report, confusion_matrix, accuracy_score"
   ]
  },
  {
   "cell_type": "code",
   "execution_count": 3,
   "id": "75a0cbfb",
   "metadata": {
    "scrolled": true
   },
   "outputs": [
    {
     "name": "stdout",
     "output_type": "stream",
     "text": [
      "/Users/sai2005/Downloads\n",
      "['ubuntu-24.04.1-live-server-arm64.iso', 'Home_Price_Prediction_Final_Fixed.ipynb', 'Visual Studio Code.app', '.DS_Store', 'app', '.localized', 'MLOps_FullStack_Roadmap_Complete.pdf', 'Screenshot 2025-02-20 at 3.03.41\\u202fpm.png', 'android-studio-2024.2.2.13-mac_arm.dmg', 'WhatsApp Image 2025-02-19 at 5.42.08\\u202fpm.jpeg', 'projects', 'OpenJDK17U-jdk_aarch64_mac_hotspot_17.0.12_7.pkg', 'jdk-17_windows-x64_bin (1).exe', 'se.pdf', 'pics', 'UTM.dmg', 'books', 'blenderkit', 'GitHub Desktop.app', 'MXPlayer', 'wp5355482.jpg', 'c_t', 'view.html', 'Python_Roadmap_MLOps_FullStack.pdf', 'Visual Studio Code-2.app', 'flutter_macos_arm64_3.27.4-stable.zip', '.ipynb_checkpoints', 'MLOps_Roadmap_Complete_Document.docx', 'Screenshot 2025-02-16 at 9.30.23\\u202fpm.png', 'wp4294829-2255896595.jpg', 'projects.zip', 'coursera', 'FlutterDev', 'Fraud_Detection_Notebook_Final_Fixed.ipynb', 'OpenJDK21U-jdk_aarch64_mac_hotspot_21.0.5_11.pkg', 'Screenshot 2025-02-13 at 8.41.09\\u202fpm.png', 'sem4', 'digit-recognizer', 'sem3']\n"
     ]
    },
    {
     "data": {
      "text/html": [
       "<div>\n",
       "<style scoped>\n",
       "    .dataframe tbody tr th:only-of-type {\n",
       "        vertical-align: middle;\n",
       "    }\n",
       "\n",
       "    .dataframe tbody tr th {\n",
       "        vertical-align: top;\n",
       "    }\n",
       "\n",
       "    .dataframe thead th {\n",
       "        text-align: right;\n",
       "    }\n",
       "</style>\n",
       "<table border=\"1\" class=\"dataframe\">\n",
       "  <thead>\n",
       "    <tr style=\"text-align: right;\">\n",
       "      <th></th>\n",
       "      <th>Time</th>\n",
       "      <th>V1</th>\n",
       "      <th>V2</th>\n",
       "      <th>V3</th>\n",
       "      <th>V4</th>\n",
       "      <th>V5</th>\n",
       "      <th>V6</th>\n",
       "      <th>V7</th>\n",
       "      <th>V8</th>\n",
       "      <th>V9</th>\n",
       "      <th>...</th>\n",
       "      <th>V21</th>\n",
       "      <th>V22</th>\n",
       "      <th>V23</th>\n",
       "      <th>V24</th>\n",
       "      <th>V25</th>\n",
       "      <th>V26</th>\n",
       "      <th>V27</th>\n",
       "      <th>V28</th>\n",
       "      <th>Amount</th>\n",
       "      <th>Class</th>\n",
       "    </tr>\n",
       "  </thead>\n",
       "  <tbody>\n",
       "    <tr>\n",
       "      <th>0</th>\n",
       "      <td>0.0</td>\n",
       "      <td>-1.359807</td>\n",
       "      <td>-0.072781</td>\n",
       "      <td>2.536347</td>\n",
       "      <td>1.378155</td>\n",
       "      <td>-0.338321</td>\n",
       "      <td>0.462388</td>\n",
       "      <td>0.239599</td>\n",
       "      <td>0.098698</td>\n",
       "      <td>0.363787</td>\n",
       "      <td>...</td>\n",
       "      <td>-0.018307</td>\n",
       "      <td>0.277838</td>\n",
       "      <td>-0.110474</td>\n",
       "      <td>0.066928</td>\n",
       "      <td>0.128539</td>\n",
       "      <td>-0.189115</td>\n",
       "      <td>0.133558</td>\n",
       "      <td>-0.021053</td>\n",
       "      <td>149.62</td>\n",
       "      <td>0</td>\n",
       "    </tr>\n",
       "    <tr>\n",
       "      <th>1</th>\n",
       "      <td>0.0</td>\n",
       "      <td>1.191857</td>\n",
       "      <td>0.266151</td>\n",
       "      <td>0.166480</td>\n",
       "      <td>0.448154</td>\n",
       "      <td>0.060018</td>\n",
       "      <td>-0.082361</td>\n",
       "      <td>-0.078803</td>\n",
       "      <td>0.085102</td>\n",
       "      <td>-0.255425</td>\n",
       "      <td>...</td>\n",
       "      <td>-0.225775</td>\n",
       "      <td>-0.638672</td>\n",
       "      <td>0.101288</td>\n",
       "      <td>-0.339846</td>\n",
       "      <td>0.167170</td>\n",
       "      <td>0.125895</td>\n",
       "      <td>-0.008983</td>\n",
       "      <td>0.014724</td>\n",
       "      <td>2.69</td>\n",
       "      <td>0</td>\n",
       "    </tr>\n",
       "    <tr>\n",
       "      <th>2</th>\n",
       "      <td>1.0</td>\n",
       "      <td>-1.358354</td>\n",
       "      <td>-1.340163</td>\n",
       "      <td>1.773209</td>\n",
       "      <td>0.379780</td>\n",
       "      <td>-0.503198</td>\n",
       "      <td>1.800499</td>\n",
       "      <td>0.791461</td>\n",
       "      <td>0.247676</td>\n",
       "      <td>-1.514654</td>\n",
       "      <td>...</td>\n",
       "      <td>0.247998</td>\n",
       "      <td>0.771679</td>\n",
       "      <td>0.909412</td>\n",
       "      <td>-0.689281</td>\n",
       "      <td>-0.327642</td>\n",
       "      <td>-0.139097</td>\n",
       "      <td>-0.055353</td>\n",
       "      <td>-0.059752</td>\n",
       "      <td>378.66</td>\n",
       "      <td>0</td>\n",
       "    </tr>\n",
       "    <tr>\n",
       "      <th>3</th>\n",
       "      <td>1.0</td>\n",
       "      <td>-0.966272</td>\n",
       "      <td>-0.185226</td>\n",
       "      <td>1.792993</td>\n",
       "      <td>-0.863291</td>\n",
       "      <td>-0.010309</td>\n",
       "      <td>1.247203</td>\n",
       "      <td>0.237609</td>\n",
       "      <td>0.377436</td>\n",
       "      <td>-1.387024</td>\n",
       "      <td>...</td>\n",
       "      <td>-0.108300</td>\n",
       "      <td>0.005274</td>\n",
       "      <td>-0.190321</td>\n",
       "      <td>-1.175575</td>\n",
       "      <td>0.647376</td>\n",
       "      <td>-0.221929</td>\n",
       "      <td>0.062723</td>\n",
       "      <td>0.061458</td>\n",
       "      <td>123.50</td>\n",
       "      <td>0</td>\n",
       "    </tr>\n",
       "    <tr>\n",
       "      <th>4</th>\n",
       "      <td>2.0</td>\n",
       "      <td>-1.158233</td>\n",
       "      <td>0.877737</td>\n",
       "      <td>1.548718</td>\n",
       "      <td>0.403034</td>\n",
       "      <td>-0.407193</td>\n",
       "      <td>0.095921</td>\n",
       "      <td>0.592941</td>\n",
       "      <td>-0.270533</td>\n",
       "      <td>0.817739</td>\n",
       "      <td>...</td>\n",
       "      <td>-0.009431</td>\n",
       "      <td>0.798278</td>\n",
       "      <td>-0.137458</td>\n",
       "      <td>0.141267</td>\n",
       "      <td>-0.206010</td>\n",
       "      <td>0.502292</td>\n",
       "      <td>0.219422</td>\n",
       "      <td>0.215153</td>\n",
       "      <td>69.99</td>\n",
       "      <td>0</td>\n",
       "    </tr>\n",
       "  </tbody>\n",
       "</table>\n",
       "<p>5 rows × 31 columns</p>\n",
       "</div>"
      ],
      "text/plain": [
       "   Time        V1        V2        V3        V4        V5        V6        V7  \\\n",
       "0   0.0 -1.359807 -0.072781  2.536347  1.378155 -0.338321  0.462388  0.239599   \n",
       "1   0.0  1.191857  0.266151  0.166480  0.448154  0.060018 -0.082361 -0.078803   \n",
       "2   1.0 -1.358354 -1.340163  1.773209  0.379780 -0.503198  1.800499  0.791461   \n",
       "3   1.0 -0.966272 -0.185226  1.792993 -0.863291 -0.010309  1.247203  0.237609   \n",
       "4   2.0 -1.158233  0.877737  1.548718  0.403034 -0.407193  0.095921  0.592941   \n",
       "\n",
       "         V8        V9  ...       V21       V22       V23       V24       V25  \\\n",
       "0  0.098698  0.363787  ... -0.018307  0.277838 -0.110474  0.066928  0.128539   \n",
       "1  0.085102 -0.255425  ... -0.225775 -0.638672  0.101288 -0.339846  0.167170   \n",
       "2  0.247676 -1.514654  ...  0.247998  0.771679  0.909412 -0.689281 -0.327642   \n",
       "3  0.377436 -1.387024  ... -0.108300  0.005274 -0.190321 -1.175575  0.647376   \n",
       "4 -0.270533  0.817739  ... -0.009431  0.798278 -0.137458  0.141267 -0.206010   \n",
       "\n",
       "        V26       V27       V28  Amount  Class  \n",
       "0 -0.189115  0.133558 -0.021053  149.62      0  \n",
       "1  0.125895 -0.008983  0.014724    2.69      0  \n",
       "2 -0.139097 -0.055353 -0.059752  378.66      0  \n",
       "3 -0.221929  0.062723  0.061458  123.50      0  \n",
       "4  0.502292  0.219422  0.215153   69.99      0  \n",
       "\n",
       "[5 rows x 31 columns]"
      ]
     },
     "execution_count": 3,
     "metadata": {},
     "output_type": "execute_result"
    }
   ],
   "source": [
    "import os\n",
    "print(os.getcwd())  \n",
    "print(os.listdir())  \n",
    "df = pd.read_csv('/Users/sai2005/Downloads/projects/creditcard.csv')\n",
    "df.head()"
   ]
  },
  {
   "cell_type": "code",
   "execution_count": 5,
   "id": "f5175571",
   "metadata": {},
   "outputs": [
    {
     "name": "stdout",
     "output_type": "stream",
     "text": [
      " Data Loaded Successfully!\n",
      "   Time        V1        V2        V3        V4        V5        V6        V7  \\\n",
      "0   0.0 -1.359807 -0.072781  2.536347  1.378155 -0.338321  0.462388  0.239599   \n",
      "1   0.0  1.191857  0.266151  0.166480  0.448154  0.060018 -0.082361 -0.078803   \n",
      "2   1.0 -1.358354 -1.340163  1.773209  0.379780 -0.503198  1.800499  0.791461   \n",
      "3   1.0 -0.966272 -0.185226  1.792993 -0.863291 -0.010309  1.247203  0.237609   \n",
      "4   2.0 -1.158233  0.877737  1.548718  0.403034 -0.407193  0.095921  0.592941   \n",
      "\n",
      "         V8        V9  ...       V21       V22       V23       V24       V25  \\\n",
      "0  0.098698  0.363787  ... -0.018307  0.277838 -0.110474  0.066928  0.128539   \n",
      "1  0.085102 -0.255425  ... -0.225775 -0.638672  0.101288 -0.339846  0.167170   \n",
      "2  0.247676 -1.514654  ...  0.247998  0.771679  0.909412 -0.689281 -0.327642   \n",
      "3  0.377436 -1.387024  ... -0.108300  0.005274 -0.190321 -1.175575  0.647376   \n",
      "4 -0.270533  0.817739  ... -0.009431  0.798278 -0.137458  0.141267 -0.206010   \n",
      "\n",
      "        V26       V27       V28  Amount  Class  \n",
      "0 -0.189115  0.133558 -0.021053  149.62      0  \n",
      "1  0.125895 -0.008983  0.014724    2.69      0  \n",
      "2 -0.139097 -0.055353 -0.059752  378.66      0  \n",
      "3 -0.221929  0.062723  0.061458  123.50      0  \n",
      "4  0.502292  0.219422  0.215153   69.99      0  \n",
      "\n",
      "[5 rows x 31 columns]\n",
      " Data Scaling Successful!\n"
     ]
    }
   ],
   "source": [
    "import pandas as pd\n",
    "df = pd.read_csv('/Users/sai2005/Downloads/projects/creditcard.csv')\n",
    "print(\" Data Loaded Successfully!\")\n",
    "print(df.head())  \n",
    "scaler = StandardScaler()\n",
    "X_scaled = scaler.fit_transform(df.drop('Class', axis=1))\n",
    "X = pd.DataFrame(X_scaled, columns=df.drop('Class', axis=1).columns)\n",
    "y = df['Class']\n",
    "print(\" Data Scaling Successful!\")"
   ]
  },
  {
   "cell_type": "code",
   "execution_count": 7,
   "id": "b487da82",
   "metadata": {},
   "outputs": [
    {
     "name": "stdout",
     "output_type": "stream",
     "text": [
      "Current directory: /Users/sai2005/Downloads\n",
      "Files in directory: ['ubuntu-24.04.1-live-server-arm64.iso', 'Home_Price_Prediction_Final_Fixed.ipynb', 'Visual Studio Code.app', '.DS_Store', 'app', '.localized', 'MLOps_FullStack_Roadmap_Complete.pdf', 'Screenshot 2025-02-20 at 3.03.41\\u202fpm.png', 'android-studio-2024.2.2.13-mac_arm.dmg', 'WhatsApp Image 2025-02-19 at 5.42.08\\u202fpm.jpeg', 'projects', 'OpenJDK17U-jdk_aarch64_mac_hotspot_17.0.12_7.pkg', 'jdk-17_windows-x64_bin (1).exe', 'se.pdf', 'pics', 'UTM.dmg', 'books', 'blenderkit', 'GitHub Desktop.app', 'MXPlayer', 'wp5355482.jpg', 'c_t', 'view.html', 'Python_Roadmap_MLOps_FullStack.pdf', 'Visual Studio Code-2.app', 'flutter_macos_arm64_3.27.4-stable.zip', '.ipynb_checkpoints', 'MLOps_Roadmap_Complete_Document.docx', 'Screenshot 2025-02-16 at 9.30.23\\u202fpm.png', 'wp4294829-2255896595.jpg', 'projects.zip', 'coursera', 'FlutterDev', 'Fraud_Detection_Notebook_Final_Fixed.ipynb', 'OpenJDK21U-jdk_aarch64_mac_hotspot_21.0.5_11.pkg', 'Screenshot 2025-02-13 at 8.41.09\\u202fpm.png', 'sem4', 'digit-recognizer', 'sem3']\n",
      "Current directory: /Users/sai2005/Downloads\n",
      "Files in directory: ['ubuntu-24.04.1-live-server-arm64.iso', 'Home_Price_Prediction_Final_Fixed.ipynb', 'Visual Studio Code.app', '.DS_Store', 'app', '.localized', 'MLOps_FullStack_Roadmap_Complete.pdf', 'Screenshot 2025-02-20 at 3.03.41\\u202fpm.png', 'android-studio-2024.2.2.13-mac_arm.dmg', 'WhatsApp Image 2025-02-19 at 5.42.08\\u202fpm.jpeg', 'projects', 'OpenJDK17U-jdk_aarch64_mac_hotspot_17.0.12_7.pkg', 'jdk-17_windows-x64_bin (1).exe', 'se.pdf', 'pics', 'UTM.dmg', 'books', 'blenderkit', 'GitHub Desktop.app', 'MXPlayer', 'wp5355482.jpg', 'c_t', 'view.html', 'Python_Roadmap_MLOps_FullStack.pdf', 'Visual Studio Code-2.app', 'flutter_macos_arm64_3.27.4-stable.zip', '.ipynb_checkpoints', 'MLOps_Roadmap_Complete_Document.docx', 'Screenshot 2025-02-16 at 9.30.23\\u202fpm.png', 'wp4294829-2255896595.jpg', 'projects.zip', 'coursera', 'FlutterDev', 'Fraud_Detection_Notebook_Final_Fixed.ipynb', 'OpenJDK21U-jdk_aarch64_mac_hotspot_21.0.5_11.pkg', 'Screenshot 2025-02-13 at 8.41.09\\u202fpm.png', 'sem4', 'digit-recognizer', 'sem3']\n",
      "Scaling successful!\n",
      "X_train shape: (227845, 30), X_test shape: (56962, 30)\n"
     ]
    }
   ],
   "source": [
    "import os\n",
    "print(\"Current directory:\", os.getcwd())  \n",
    "print(\"Files in directory:\", os.listdir())  \n",
    "import os\n",
    "import pandas as pd\n",
    "from sklearn.model_selection import train_test_split\n",
    "from sklearn.preprocessing import StandardScaler\n",
    "print(\"Current directory:\", os.getcwd())\n",
    "print(\"Files in directory:\", os.listdir())\n",
    "file_path = '/Users/sai2005/Downloads/projects/creditcard.csv'  \n",
    "X = df.drop(columns=['Class'])\n",
    "y = df['Class']\n",
    "X_train, X_test, y_train, y_test = train_test_split(X, y, test_size=0.2, random_state=42, stratify=y)\n",
    "scaler = StandardScaler()\n",
    "X_train_scaled = scaler.fit_transform(X_train)  # Fit on training data\n",
    "X_test_scaled = scaler.transform(X_test)  # Transform test data\n",
    "\n",
    "print(\"Scaling successful!\")\n",
    "print(f\"X_train shape: {X_train.shape}, X_test shape: {X_test.shape}\")"
   ]
  },
  {
   "cell_type": "code",
   "execution_count": 9,
   "id": "c555a564",
   "metadata": {},
   "outputs": [
    {
     "name": "stdout",
     "output_type": "stream",
     "text": [
      "0\n"
     ]
    }
   ],
   "source": [
    "print(df.isnull().sum().sum())\n",
    "# Normalizing Amount column\n",
    "scaler = StandardScaler()\n",
    "df['NormalizedAmount'] = scaler.fit_transform(df[['Amount']])\n",
    "df.drop(['Amount', 'Time'], axis=1, inplace=True)"
   ]
  },
  {
   "cell_type": "code",
   "execution_count": 11,
   "id": "5c9b513a",
   "metadata": {},
   "outputs": [
    {
     "name": "stdout",
     "output_type": "stream",
     "text": [
      "Requirement already satisfied: xgboost in /opt/anaconda3/lib/python3.12/site-packages (2.1.4)\n",
      "Requirement already satisfied: numpy in /opt/anaconda3/lib/python3.12/site-packages (from xgboost) (1.26.4)\n",
      "Requirement already satisfied: scipy in /opt/anaconda3/lib/python3.12/site-packages (from xgboost) (1.13.1)\n",
      " SMOTE applied successfully!\n",
      "Class distribution after SMOTE:\n",
      " Class\n",
      "0    227451\n",
      "1    227451\n",
      "Name: count, dtype: int64\n"
     ]
    },
    {
     "name": "stderr",
     "output_type": "stream",
     "text": [
      "/opt/anaconda3/lib/python3.12/site-packages/xgboost/core.py:158: UserWarning: [16:13:43] WARNING: /Users/runner/work/xgboost/xgboost/src/learner.cc:740: \n",
      "Parameters: { \"use_label_encoder\" } are not used.\n",
      "\n",
      "  warnings.warn(smsg, UserWarning)\n"
     ]
    },
    {
     "name": "stdout",
     "output_type": "stream",
     "text": [
      "XGBoost Model Evaluation:\n",
      "              precision    recall  f1-score   support\n",
      "\n",
      "           0       1.00      1.00      1.00     56864\n",
      "           1       0.79      0.85      0.82        98\n",
      "\n",
      "    accuracy                           1.00     56962\n",
      "   macro avg       0.90      0.92      0.91     56962\n",
      "weighted avg       1.00      1.00      1.00     56962\n",
      "\n"
     ]
    }
   ],
   "source": [
    "!pip install xgboost\n",
    "from xgboost import XGBClassifier\n",
    "from imblearn.over_sampling import SMOTE\n",
    "from sklearn.metrics import classification_report\n",
    "sm = SMOTE(random_state=42)\n",
    "X_train_sm, y_train_sm = sm.fit_resample(X_train, y_train)\n",
    "print(\" SMOTE applied successfully!\")\n",
    "print(\"Class distribution after SMOTE:\\n\", y_train_sm.value_counts())\n",
    "xgb_model = XGBClassifier(use_label_encoder=False, eval_metric='logloss', random_state=42)\n",
    "xgb_model.fit(X_train_sm, y_train_sm)\n",
    "y_pred_xgb = xgb_model.predict(X_test)\n",
    "print('XGBoost Model Evaluation:')\n",
    "print(classification_report(y_test, y_pred_xgb))"
   ]
  },
  {
   "cell_type": "code",
   "execution_count": null,
   "id": "b4792dcf",
   "metadata": {},
   "outputs": [
    {
     "name": "stdout",
     "output_type": "stream",
     "text": [
      "SMOTE applied successfully!\n",
      "Class distribution after SMOTE:\n",
      " Class\n",
      "0    227451\n",
      "1    227451\n",
      "Name: count, dtype: int64\n"
     ]
    }
   ],
   "source": [
    "import matplotlib.pyplot as plt\n",
    "import seaborn as sns\n",
    "from sklearn.ensemble import RandomForestClassifier\n",
    "from sklearn.metrics import classification_report, confusion_matrix\n",
    "from imblearn.over_sampling import SMOTE\n",
    "from sklearn.model_selection import train_test_split\n",
    "from sklearn.preprocessing import StandardScaler\n",
    "import pandas as pd\n",
    "file_path = '/Users/sai2005/Downloads/projects/creditcard.csv'  \n",
    "df = pd.read_csv(file_path)\n",
    "X = df.drop(columns=['Class'])\n",
    "y = df['Class']\n",
    "X_train, X_test, y_train, y_test = train_test_split(X, y, test_size=0.2, random_state=42, stratify=y)\n",
    "scaler = StandardScaler()\n",
    "X_train_scaled = scaler.fit_transform(X_train)  \n",
    "X_test_scaled = scaler.transform(X_test)  \n",
    "sm = SMOTE(random_state=42)\n",
    "X_train_sm, y_train_sm = sm.fit_resample(X_train_scaled, y_train)\n",
    "print(\"SMOTE applied successfully!\")\n",
    "print(\"Class distribution after SMOTE:\\n\", y_train_sm.value_counts())\n",
    "rf_model = RandomForestClassifier(n_estimators=100, random_state=42)\n",
    "rf_model.fit(X_train_sm, y_train_sm)\n",
    "y_pred_rf = rf_model.predict(X_test_scaled)\n",
    "print(' Random Forest Model Evaluation:')\n",
    "print(classification_report(y_test, y_pred_rf))\n",
    "plt.figure(figsize=(5, 4))\n",
    "sns.heatmap(confusion_matrix(y_test, y_pred_rf), annot=True, fmt='d', cmap='Blues')\n",
    "plt.xlabel('Predicted')\n",
    "plt.ylabel('Actual')\n",
    "plt.title('Random Forest Confusion Matrix')\n",
    "plt.show()"
   ]
  },
  {
   "cell_type": "code",
   "execution_count": 1,
   "id": "f8512e6c",
   "metadata": {},
   "outputs": [
    {
     "name": "stdout",
     "output_type": "stream",
     "text": [
      " SMOTE applied successfully!\n",
      "Class distribution after SMOTE:\n",
      " Class\n",
      "0    227451\n",
      "1    227451\n",
      "Name: count, dtype: int64\n"
     ]
    }
   ],
   "source": [
    "\n",
    "import pandas as pd\n",
    "from sklearn.model_selection import train_test_split\n",
    "from sklearn.preprocessing import StandardScaler\n",
    "from imblearn.over_sampling import SMOTE\n",
    "file_path = '/Users/sai2005/Downloads/projects/creditcard.csv' \n",
    "df = pd.read_csv(file_path)\n",
    "X = df.drop(columns=['Class'])\n",
    "y = df['Class']\n",
    "X_train, X_test, y_train, y_test = train_test_split(X, y, test_size=0.2, random_state=42, stratify=y)\n",
    "scaler = StandardScaler()\n",
    "X_train_scaled = scaler.fit_transform(X_train)  \n",
    "X_test_scaled = scaler.transform(X_test)  \n",
    "smote = SMOTE(random_state=42)\n",
    "X_resampled, y_resampled = smote.fit_resample(X_train_scaled, y_train)\n",
    "print(\" SMOTE applied successfully!\")\n",
    "print(\"Class distribution after SMOTE:\\n\", y_resampled.value_counts())"
   ]
  },
  {
   "cell_type": "code",
   "execution_count": 1,
   "id": "34cc2f19",
   "metadata": {},
   "outputs": [
    {
     "name": "stdout",
     "output_type": "stream",
     "text": [
      "Isolation Forest applied successfully!\n",
      "Anomaly scores calculated.\n"
     ]
    }
   ],
   "source": [
    "from sklearn.ensemble import IsolationForest\n",
    "import pandas as pd\n",
    "from sklearn.model_selection import train_test_split\n",
    "from sklearn.preprocessing import StandardScaler\n",
    "file_path = '/Users/sai2005/Downloads/projects/creditcard.csv'  \n",
    "df = pd.read_csv(file_path)\n",
    "X = df.drop(columns=['Class'])\n",
    "y = df['Class']\n",
    "X_train, X_test, y_train, y_test = train_test_split(X, y, test_size=0.2, random_state=42, stratify=y)\n",
    "scaler = StandardScaler()\n",
    "X_train_scaled = scaler.fit_transform(X_train) \n",
    "X_test_scaled = scaler.transform(X_test)  \n",
    "iso_forest = IsolationForest(contamination=0.02, random_state=42)\n",
    "iso_forest.fit(X_train_scaled)\n",
    "anomaly_scores = iso_forest.decision_function(X_test_scaled)\n",
    "print(\"Isolation Forest applied successfully!\")\n",
    "print(\"Anomaly scores calculated.\")"
   ]
  },
  {
   "cell_type": "code",
   "execution_count": null,
   "id": "7579babd",
   "metadata": {},
   "outputs": [
    {
     "name": "stdout",
     "output_type": "stream",
     "text": [
      "Current directory: /Users/sai2005/Downloads\n",
      "Files in directory: ['ubuntu-24.04.1-live-server-arm64.iso', 'Home_Price_Prediction_Final_Fixed.ipynb', 'Visual Studio Code.app', '.DS_Store', 'app', '.localized', 'MLOps_FullStack_Roadmap_Complete.pdf', 'Screenshot 2025-02-20 at 3.03.41\\u202fpm.png', 'android-studio-2024.2.2.13-mac_arm.dmg', 'WhatsApp Image 2025-02-19 at 5.42.08\\u202fpm.jpeg', 'projects', 'OpenJDK17U-jdk_aarch64_mac_hotspot_17.0.12_7.pkg', 'jdk-17_windows-x64_bin (1).exe', 'se.pdf', 'pics', 'UTM.dmg', 'books', 'blenderkit', 'GitHub Desktop.app', 'MXPlayer', 'wp5355482.jpg', 'c_t', 'view.html', 'Python_Roadmap_MLOps_FullStack.pdf', 'Visual Studio Code-2.app', 'flutter_macos_arm64_3.27.4-stable.zip', '.ipynb_checkpoints', 'MLOps_Roadmap_Complete_Document.docx', 'Screenshot 2025-02-16 at 9.30.23\\u202fpm.png', 'wp4294829-2255896595.jpg', 'projects.zip', 'coursera', 'FlutterDev', 'Fraud_Detection_Notebook_Final_Fixed.ipynb', 'OpenJDK21U-jdk_aarch64_mac_hotspot_21.0.5_11.pkg', 'Screenshot 2025-02-13 at 8.41.09\\u202fpm.png', 'sem4', 'digit-recognizer', 'sem3']\n",
      " Data Split Completed! X_train shape: (227845, 30), X_test shape: (56962, 30)\n",
      " Data Scaling Completed!\n"
     ]
    }
   ],
   "source": [
    "import os\n",
    "import pandas as pd\n",
    "from sklearn.model_selection import train_test_split\n",
    "from sklearn.preprocessing import StandardScaler\n",
    "from sklearn.ensemble import RandomForestClassifier\n",
    "from sklearn.metrics import precision_score, recall_score, f1_score, confusion_matrix\n",
    "print(\"Current directory:\", os.getcwd())\n",
    "print(\"Files in directory:\", os.listdir())\n",
    "file_path = '/Users/sai2005/Downloads/projects/creditcard.csv'  # Update path if needed\n",
    "df = pd.read_csv(file_path)\n",
    "X = df.drop(columns=['Class'])\n",
    "y = df['Class']\n",
    "X_train, X_test, y_train, y_test = train_test_split(X, y, test_size=0.2, random_state=42, stratify=y)\n",
    "print(f\" Data Split Completed! X_train shape: {X_train.shape}, X_test shape: {X_test.shape}\")\n",
    "scaler = StandardScaler()\n",
    "X_train_scaled = scaler.fit_transform(X_train) \n",
    "X_test_scaled = scaler.transform(X_test)  \n",
    "print(\" Data Scaling Completed!\")\n",
    "model = RandomForestClassifier(n_estimators=100, random_state=42)\n",
    "model.fit(X_train_scaled, y_train)\n",
    "print(\" Model Training Completed!\")\n",
    "y_pred = model.predict(X_test_scaled)\n",
    "print(' Model Evaluation:')\n",
    "print('Precision:', precision_score(y_test, y_pred))\n",
    "print('Recall:', recall_score(y_test, y_pred))\n",
    "print('F1 Score:', f1_score(y_test, y_pred))\n",
    "print('Confusion Matrix:\\n', confusion_matrix(y_test, y_pred))"
   ]
  },
  {
   "cell_type": "code",
   "execution_count": null,
   "id": "3046f568-3e0e-4e7b-a089-2c511ffea555",
   "metadata": {},
   "outputs": [],
   "source": []
  }
 ],
 "metadata": {
  "kernelspec": {
   "display_name": "Python [conda env:base] *",
   "language": "python",
   "name": "conda-base-py"
  },
  "language_info": {
   "codemirror_mode": {
    "name": "ipython",
    "version": 3
   },
   "file_extension": ".py",
   "mimetype": "text/x-python",
   "name": "python",
   "nbconvert_exporter": "python",
   "pygments_lexer": "ipython3",
   "version": "3.12.2"
  }
 },
 "nbformat": 4,
 "nbformat_minor": 5
}
